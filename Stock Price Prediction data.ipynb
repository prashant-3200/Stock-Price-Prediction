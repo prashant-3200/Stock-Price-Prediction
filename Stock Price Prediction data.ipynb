{
 "cells": [
  {
   "cell_type": "markdown",
   "metadata": {},
   "source": [
    "# <font color = \"green\"><center>Stock Price Prediction using Machine Learning</center></font>"
   ]
  },
  {
   "cell_type": "markdown",
   "metadata": {},
   "source": [
    "## Content: \n",
    "- [Installing Libraries](#install)\n",
    "- [Loading Libraries](#load)\n",
    "- [Loading Dataset](#data)\n",
    "\t- [Option 1: Extracting the data](#extract)\n",
    "\t- [Option 2: Loading the already given data file](#given_data)\n",
    "- [Explanation to the Open-high-low-close chart (OHLC) Chart](#OHLC)\n",
    "- [Visualising the plot](#plot)\n",
    "- [Exponential Smoothing](#smooth)\n",
    "- [Feature Engineering](#feature)\n",
    "- [Prepare the prediction parameter](#prediction)\n",
    "- [Preparing the data for ML model(data_prep)](#data_prep)\n",
    "- [Logistic Regression with Hyperparameter tuning and Cross validation](#log)\n",
    "- [Support Vector Classifier with Hyperparameter tuning and Cross validation](#SVC)\n",
    "- [Decision Tree with Hyperparameter tuning and Cross validation](#dt)\n",
    "- [Random Forest with Hyperparameter tuning and Cross validation](#rf)\n",
    "- [Compare the Models Performance](#compare)"
   ]
  },
  {
   "cell_type": "markdown",
   "metadata": {},
   "source": [
    "## Installing Libraries<a id='install'></a>"
   ]
  },
  {
   "cell_type": "code",
   "execution_count": null,
   "metadata": {},
   "outputs": [],
   "source": []
  },
  {
   "cell_type": "code",
   "execution_count": 1,
   "metadata": {},
   "outputs": [],
   "source": [
    "# !pip install yfinance\n",
    "# !pip install finta"
   ]
  },
  {
   "cell_type": "markdown",
   "metadata": {},
   "source": [
    "## Loading Libraries<a id='load'></a>"
   ]
  },
  {
   "cell_type": "code",
   "execution_count": 57,
   "metadata": {},
   "outputs": [],
   "source": [
    "# basic python libararies\n",
    "import pandas as pd\n",
    "import numpy as np\n",
    "import matplotlib.pyplot as plt\n",
    "import warnings \n",
    "warnings.filterwarnings('ignore')\n",
    "import datetime\n",
    "\n",
    "# related to stock data and stock market indicators\n",
    "# refer to the link in the References\n",
    "import yfinance as yf \n",
    "from finta import TA\n",
    "\n",
    "# machine learning libraries\n",
    "from sklearn.model_selection import train_test_split\n",
    "from sklearn.linear_model import LogisticRegression\n",
    "from sklearn.svm import SVC\n",
    "from sklearn.tree import DecisionTreeClassifier\n",
    "from sklearn.ensemble import RandomForestClassifier\n",
    "from sklearn.model_selection import RandomizedSearchCV\n",
    "from sklearn.metrics import confusion_matrix, classification_report, accuracy_score\n",
    "\n",
    "# library to plot the images in the notebook\n",
    "from IPython.display import Image\n",
    "from IPython.core.display import HTML "
   ]
  },
  {
   "cell_type": "markdown",
   "metadata": {},
   "source": [
    "## Loading Dataset<a id='data'></a>"
   ]
  },
  {
   "cell_type": "markdown",
   "metadata": {},
   "source": [
    "#### Option 1: Extracting the data<a id='extract'></a>"
   ]
  },
  {
   "cell_type": "code",
   "execution_count": 5,
   "metadata": {},
   "outputs": [
    {
     "name": "stdout",
     "output_type": "stream",
     "text": [
      "Start Date:  1981-12-22\n",
      "End Date:  2023-01-16\n"
     ]
    }
   ],
   "source": [
    "\"define the parameters to extract stock market data\"\n",
    "\n",
    "# refer to the link in the References to get the list of stocks and corresponding tickers\n",
    "# define the ticker for the stocks you are interested\n",
    "symbol = 'TSLA' \n",
    "\n",
    "num_days = 15000\n",
    "INTERVAL = '1d'  \n",
    "symbol = 'SPY' \n",
    "\n",
    "# extract the start and end data\n",
    "start = str((datetime.date.today() - datetime.timedelta(num_days)))\n",
    "end = str(datetime.date.today())\n",
    "\n",
    "print(\"Start Date: \", start)\n",
    "print(\"End Date: \", end)"
   ]
  },
  {
   "cell_type": "code",
   "execution_count": 3,
   "metadata": {},
   "outputs": [
    {
     "data": {
      "text/html": [
       "<div>\n",
       "<style scoped>\n",
       "    .dataframe tbody tr th:only-of-type {\n",
       "        vertical-align: middle;\n",
       "    }\n",
       "\n",
       "    .dataframe tbody tr th {\n",
       "        vertical-align: top;\n",
       "    }\n",
       "\n",
       "    .dataframe thead th {\n",
       "        text-align: right;\n",
       "    }\n",
       "</style>\n",
       "<table border=\"1\" class=\"dataframe\">\n",
       "  <thead>\n",
       "    <tr style=\"text-align: right;\">\n",
       "      <th></th>\n",
       "      <th>Open</th>\n",
       "      <th>High</th>\n",
       "      <th>Low</th>\n",
       "      <th>Close</th>\n",
       "      <th>Volume</th>\n",
       "      <th>Dividends</th>\n",
       "      <th>Stock Splits</th>\n",
       "    </tr>\n",
       "    <tr>\n",
       "      <th>Date</th>\n",
       "      <th></th>\n",
       "      <th></th>\n",
       "      <th></th>\n",
       "      <th></th>\n",
       "      <th></th>\n",
       "      <th></th>\n",
       "      <th></th>\n",
       "    </tr>\n",
       "  </thead>\n",
       "  <tbody>\n",
       "    <tr>\n",
       "      <th>2022-12-14 00:00:00-05:00</th>\n",
       "      <td>399.774230</td>\n",
       "      <td>403.646464</td>\n",
       "      <td>394.498469</td>\n",
       "      <td>397.574341</td>\n",
       "      <td>108111300</td>\n",
       "      <td>0.000</td>\n",
       "      <td>0</td>\n",
       "    </tr>\n",
       "    <tr>\n",
       "      <th>2022-12-15 00:00:00-05:00</th>\n",
       "      <td>392.497635</td>\n",
       "      <td>393.443305</td>\n",
       "      <td>386.116962</td>\n",
       "      <td>387.848999</td>\n",
       "      <td>117705900</td>\n",
       "      <td>0.000</td>\n",
       "      <td>0</td>\n",
       "    </tr>\n",
       "    <tr>\n",
       "      <th>2022-12-16 00:00:00-05:00</th>\n",
       "      <td>385.179993</td>\n",
       "      <td>386.579987</td>\n",
       "      <td>381.040009</td>\n",
       "      <td>383.269989</td>\n",
       "      <td>119858000</td>\n",
       "      <td>1.781</td>\n",
       "      <td>0</td>\n",
       "    </tr>\n",
       "    <tr>\n",
       "      <th>2022-12-19 00:00:00-05:00</th>\n",
       "      <td>383.470001</td>\n",
       "      <td>383.820007</td>\n",
       "      <td>378.279999</td>\n",
       "      <td>380.019989</td>\n",
       "      <td>79878100</td>\n",
       "      <td>0.000</td>\n",
       "      <td>0</td>\n",
       "    </tr>\n",
       "    <tr>\n",
       "      <th>2022-12-20 00:00:00-05:00</th>\n",
       "      <td>379.230011</td>\n",
       "      <td>382.230011</td>\n",
       "      <td>377.850006</td>\n",
       "      <td>380.540009</td>\n",
       "      <td>74427200</td>\n",
       "      <td>0.000</td>\n",
       "      <td>0</td>\n",
       "    </tr>\n",
       "  </tbody>\n",
       "</table>\n",
       "</div>"
      ],
      "text/plain": [
       "                                 Open        High         Low       Close  \\\n",
       "Date                                                                        \n",
       "2022-12-14 00:00:00-05:00  399.774230  403.646464  394.498469  397.574341   \n",
       "2022-12-15 00:00:00-05:00  392.497635  393.443305  386.116962  387.848999   \n",
       "2022-12-16 00:00:00-05:00  385.179993  386.579987  381.040009  383.269989   \n",
       "2022-12-19 00:00:00-05:00  383.470001  383.820007  378.279999  380.019989   \n",
       "2022-12-20 00:00:00-05:00  379.230011  382.230011  377.850006  380.540009   \n",
       "\n",
       "                              Volume  Dividends  Stock Splits  \n",
       "Date                                                           \n",
       "2022-12-14 00:00:00-05:00  108111300      0.000             0  \n",
       "2022-12-15 00:00:00-05:00  117705900      0.000             0  \n",
       "2022-12-16 00:00:00-05:00  119858000      1.781             0  \n",
       "2022-12-19 00:00:00-05:00   79878100      0.000             0  \n",
       "2022-12-20 00:00:00-05:00   74427200      0.000             0  "
      ]
     },
     "execution_count": 3,
     "metadata": {},
     "output_type": "execute_result"
    }
   ],
   "source": [
    "# extract the data\n",
    "obj = yf.Ticker(symbol)\n",
    "data = obj.history(interval='1d', start = start, end = end)\n",
    "data.head()"
   ]
  },
  {
   "cell_type": "markdown",
   "metadata": {},
   "source": [
    "#### Option 2: Loading the already given data file<a id='given_data'></a>"
   ]
  },
  {
   "cell_type": "code",
   "execution_count": 36,
   "metadata": {},
   "outputs": [
    {
     "data": {
      "text/html": [
       "<div>\n",
       "<style scoped>\n",
       "    .dataframe tbody tr th:only-of-type {\n",
       "        vertical-align: middle;\n",
       "    }\n",
       "\n",
       "    .dataframe tbody tr th {\n",
       "        vertical-align: top;\n",
       "    }\n",
       "\n",
       "    .dataframe thead th {\n",
       "        text-align: right;\n",
       "    }\n",
       "</style>\n",
       "<table border=\"1\" class=\"dataframe\">\n",
       "  <thead>\n",
       "    <tr style=\"text-align: right;\">\n",
       "      <th></th>\n",
       "      <th>date</th>\n",
       "      <th>Open</th>\n",
       "      <th>High</th>\n",
       "      <th>Low</th>\n",
       "      <th>Close</th>\n",
       "      <th>Volume</th>\n",
       "      <th>Dividends</th>\n",
       "      <th>Stock Splits</th>\n",
       "      <th>Capital Gains</th>\n",
       "    </tr>\n",
       "  </thead>\n",
       "  <tbody>\n",
       "    <tr>\n",
       "      <th>0</th>\n",
       "      <td>1993-01-29 00:00:00-05:00</td>\n",
       "      <td>25.236152</td>\n",
       "      <td>25.236152</td>\n",
       "      <td>25.110599</td>\n",
       "      <td>25.218216</td>\n",
       "      <td>1003200</td>\n",
       "      <td>0.0</td>\n",
       "      <td>0.0</td>\n",
       "      <td>0.0</td>\n",
       "    </tr>\n",
       "    <tr>\n",
       "      <th>1</th>\n",
       "      <td>1993-02-01 00:00:00-05:00</td>\n",
       "      <td>25.236165</td>\n",
       "      <td>25.397591</td>\n",
       "      <td>25.236165</td>\n",
       "      <td>25.397591</td>\n",
       "      <td>480500</td>\n",
       "      <td>0.0</td>\n",
       "      <td>0.0</td>\n",
       "      <td>0.0</td>\n",
       "    </tr>\n",
       "    <tr>\n",
       "      <th>2</th>\n",
       "      <td>1993-02-02 00:00:00-05:00</td>\n",
       "      <td>25.379650</td>\n",
       "      <td>25.469331</td>\n",
       "      <td>25.325842</td>\n",
       "      <td>25.451395</td>\n",
       "      <td>201300</td>\n",
       "      <td>0.0</td>\n",
       "      <td>0.0</td>\n",
       "      <td>0.0</td>\n",
       "    </tr>\n",
       "    <tr>\n",
       "      <th>3</th>\n",
       "      <td>1993-02-03 00:00:00-05:00</td>\n",
       "      <td>25.487264</td>\n",
       "      <td>25.738370</td>\n",
       "      <td>25.469328</td>\n",
       "      <td>25.720434</td>\n",
       "      <td>529400</td>\n",
       "      <td>0.0</td>\n",
       "      <td>0.0</td>\n",
       "      <td>0.0</td>\n",
       "    </tr>\n",
       "    <tr>\n",
       "      <th>4</th>\n",
       "      <td>1993-02-04 00:00:00-05:00</td>\n",
       "      <td>25.810111</td>\n",
       "      <td>25.881855</td>\n",
       "      <td>25.523132</td>\n",
       "      <td>25.828047</td>\n",
       "      <td>531500</td>\n",
       "      <td>0.0</td>\n",
       "      <td>0.0</td>\n",
       "      <td>0.0</td>\n",
       "    </tr>\n",
       "  </tbody>\n",
       "</table>\n",
       "</div>"
      ],
      "text/plain": [
       "                        date       Open       High        Low      Close  \\\n",
       "0  1993-01-29 00:00:00-05:00  25.236152  25.236152  25.110599  25.218216   \n",
       "1  1993-02-01 00:00:00-05:00  25.236165  25.397591  25.236165  25.397591   \n",
       "2  1993-02-02 00:00:00-05:00  25.379650  25.469331  25.325842  25.451395   \n",
       "3  1993-02-03 00:00:00-05:00  25.487264  25.738370  25.469328  25.720434   \n",
       "4  1993-02-04 00:00:00-05:00  25.810111  25.881855  25.523132  25.828047   \n",
       "\n",
       "    Volume  Dividends  Stock Splits  Capital Gains  \n",
       "0  1003200        0.0           0.0            0.0  \n",
       "1   480500        0.0           0.0            0.0  \n",
       "2   201300        0.0           0.0            0.0  \n",
       "3   529400        0.0           0.0            0.0  \n",
       "4   531500        0.0           0.0            0.0  "
      ]
     },
     "execution_count": 36,
     "metadata": {},
     "output_type": "execute_result"
    }
   ],
   "source": [
    "data = pd.read_csv(\"SPY_data.csv\")\n",
    "data.head()"
   ]
  },
  {
   "cell_type": "code",
   "execution_count": 37,
   "metadata": {},
   "outputs": [],
   "source": [
    "# add the 'date' column as an index of the data\n",
    "# it is not a must thing to do but only doing it for the visualisation plot\n",
    "data = data.set_index(['date'])"
   ]
  },
  {
   "cell_type": "code",
   "execution_count": 38,
   "metadata": {},
   "outputs": [
    {
     "data": {
      "text/plain": [
       "(7545, 8)"
      ]
     },
     "execution_count": 38,
     "metadata": {},
     "output_type": "execute_result"
    }
   ],
   "source": [
    "data.shape"
   ]
  },
  {
   "cell_type": "code",
   "execution_count": 39,
   "metadata": {},
   "outputs": [
    {
     "name": "stdout",
     "output_type": "stream",
     "text": [
      "<class 'pandas.core.frame.DataFrame'>\n",
      "Index: 7545 entries, 1993-01-29 00:00:00-05:00 to 2023-01-13 00:00:00-05:00\n",
      "Data columns (total 8 columns):\n",
      " #   Column         Non-Null Count  Dtype  \n",
      "---  ------         --------------  -----  \n",
      " 0   Open           7545 non-null   float64\n",
      " 1   High           7545 non-null   float64\n",
      " 2   Low            7545 non-null   float64\n",
      " 3   Close          7545 non-null   float64\n",
      " 4   Volume         7545 non-null   int64  \n",
      " 5   Dividends      7545 non-null   float64\n",
      " 6   Stock Splits   7545 non-null   float64\n",
      " 7   Capital Gains  7545 non-null   float64\n",
      "dtypes: float64(7), int64(1)\n",
      "memory usage: 530.5+ KB\n"
     ]
    }
   ],
   "source": [
    "# access the information of the data\n",
    "data.info()"
   ]
  },
  {
   "cell_type": "markdown",
   "metadata": {},
   "source": [
    "## Explanation to the Open-high-low-close chart (OHLC) Chart<a id='OHLC'></a>"
   ]
  },
  {
   "cell_type": "code",
   "execution_count": 40,
   "metadata": {},
   "outputs": [
    {
     "data": {
      "text/html": [
       "\n",
       "<center>\n",
       "<img src='https://datavizcatalogue.com/methods/images/anatomy/SVG/OHLC_chart.svg'>\n",
       "</center>\n"
      ],
      "text/plain": [
       "<IPython.core.display.HTML object>"
      ]
     },
     "execution_count": 40,
     "metadata": {},
     "output_type": "execute_result"
    }
   ],
   "source": [
    "HTML(\"\"\"\n",
    "<center>\n",
    "<img src='https://datavizcatalogue.com/methods/images/anatomy/SVG/OHLC_chart.svg'>\n",
    "</center>\n",
    "\"\"\")"
   ]
  },
  {
   "cell_type": "markdown",
   "metadata": {},
   "source": [
    "The stock market uses several key terms to describe the performance of a particular stock. The open, close, high, and low prices refer to the price of a stock at specific points during a trading day.\n",
    "\n",
    "- **Open:** The open price is the price of a stock at the beginning of a trading day, or the price at which the stock first starts trading on an exchange.\n",
    "- **Close:** The close price is the price of a stock at the end of a trading day, or the final price at which the stock trades on an exchange before the market closes.\n",
    "- **High:** The high price is the highest price that a stock trades for during a trading day.\n",
    "- **Low:** The low price is the lowest price that a stock trades for during a trading day."
   ]
  },
  {
   "cell_type": "code",
   "execution_count": 41,
   "metadata": {},
   "outputs": [],
   "source": [
    "# remove the unrequired parameters\n",
    "data.drop(['Dividends', \"Stock Splits\", \"Capital Gains\"], axis = 1, inplace = True)"
   ]
  },
  {
   "cell_type": "code",
   "execution_count": 42,
   "metadata": {},
   "outputs": [
    {
     "data": {
      "text/html": [
       "<div>\n",
       "<style scoped>\n",
       "    .dataframe tbody tr th:only-of-type {\n",
       "        vertical-align: middle;\n",
       "    }\n",
       "\n",
       "    .dataframe tbody tr th {\n",
       "        vertical-align: top;\n",
       "    }\n",
       "\n",
       "    .dataframe thead th {\n",
       "        text-align: right;\n",
       "    }\n",
       "</style>\n",
       "<table border=\"1\" class=\"dataframe\">\n",
       "  <thead>\n",
       "    <tr style=\"text-align: right;\">\n",
       "      <th></th>\n",
       "      <th>open</th>\n",
       "      <th>high</th>\n",
       "      <th>low</th>\n",
       "      <th>close</th>\n",
       "      <th>volume</th>\n",
       "    </tr>\n",
       "    <tr>\n",
       "      <th>date</th>\n",
       "      <th></th>\n",
       "      <th></th>\n",
       "      <th></th>\n",
       "      <th></th>\n",
       "      <th></th>\n",
       "    </tr>\n",
       "  </thead>\n",
       "  <tbody>\n",
       "    <tr>\n",
       "      <th>1993-01-29 00:00:00-05:00</th>\n",
       "      <td>25.236152</td>\n",
       "      <td>25.236152</td>\n",
       "      <td>25.110599</td>\n",
       "      <td>25.218216</td>\n",
       "      <td>1003200</td>\n",
       "    </tr>\n",
       "    <tr>\n",
       "      <th>1993-02-01 00:00:00-05:00</th>\n",
       "      <td>25.236165</td>\n",
       "      <td>25.397591</td>\n",
       "      <td>25.236165</td>\n",
       "      <td>25.397591</td>\n",
       "      <td>480500</td>\n",
       "    </tr>\n",
       "    <tr>\n",
       "      <th>1993-02-02 00:00:00-05:00</th>\n",
       "      <td>25.379650</td>\n",
       "      <td>25.469331</td>\n",
       "      <td>25.325842</td>\n",
       "      <td>25.451395</td>\n",
       "      <td>201300</td>\n",
       "    </tr>\n",
       "    <tr>\n",
       "      <th>1993-02-03 00:00:00-05:00</th>\n",
       "      <td>25.487264</td>\n",
       "      <td>25.738370</td>\n",
       "      <td>25.469328</td>\n",
       "      <td>25.720434</td>\n",
       "      <td>529400</td>\n",
       "    </tr>\n",
       "    <tr>\n",
       "      <th>1993-02-04 00:00:00-05:00</th>\n",
       "      <td>25.810111</td>\n",
       "      <td>25.881855</td>\n",
       "      <td>25.523132</td>\n",
       "      <td>25.828047</td>\n",
       "      <td>531500</td>\n",
       "    </tr>\n",
       "  </tbody>\n",
       "</table>\n",
       "</div>"
      ],
      "text/plain": [
       "                                open       high        low      close   volume\n",
       "date                                                                          \n",
       "1993-01-29 00:00:00-05:00  25.236152  25.236152  25.110599  25.218216  1003200\n",
       "1993-02-01 00:00:00-05:00  25.236165  25.397591  25.236165  25.397591   480500\n",
       "1993-02-02 00:00:00-05:00  25.379650  25.469331  25.325842  25.451395   201300\n",
       "1993-02-03 00:00:00-05:00  25.487264  25.738370  25.469328  25.720434   529400\n",
       "1993-02-04 00:00:00-05:00  25.810111  25.881855  25.523132  25.828047   531500"
      ]
     },
     "execution_count": 42,
     "metadata": {},
     "output_type": "execute_result"
    }
   ],
   "source": [
    "# rename the parameters\n",
    "# it is not a must thing to do but doing fr the convenience while declaring parameter names\n",
    "data.rename(columns={\"Close\": 'close', \"High\": 'high', \"Low\": 'low', 'Volume': 'volume', \n",
    "                     'Open': 'open'}, inplace=True)\n",
    "data.head()"
   ]
  },
  {
   "cell_type": "markdown",
   "metadata": {},
   "source": [
    "### Visualising the plot<a id='plot'></a>"
   ]
  },
  {
   "cell_type": "code",
   "execution_count": 43,
   "metadata": {},
   "outputs": [
    {
     "data": {
      "image/png": "[encoded data removed]",
      "text/plain": [
       "<Figure size 864x432 with 1 Axes>"
      ]
     },
     "metadata": {
      "needs_background": "light"
     },
     "output_type": "display_data"
    }
   ],
   "source": [
    "# define the figure size\n",
    "plt.figure(figsize = (12,6))\n",
    "# get the current 60 days data \n",
    "tmp = data.iloc[-60:]\n",
    "# plot the data\n",
    "tmp['close'].plot()\n",
    "# rotate the labels in the x-axis\n",
    "plt.xticks(rotation = 30)\n",
    "plt.show()"
   ]
  },
  {
   "cell_type": "markdown",
   "metadata": {},
   "source": [
    "## Exponential Smoothing<a id='smooth'></a>"
   ]
  },
  {
   "cell_type": "markdown",
   "metadata": {},
   "source": [
    "- Exponential smoothing is a commonly used method in time series forecasting because it can effectively capture both the short-term and long-term patterns in the data. The method works by applying a weighted average to the past observations, with more recent observations given more weight and older observations given less weight. This allows the model to capture the more recent variations in the data while also taking into account the overall trend or seasonality of the time series.\n",
    "- The weighting decreases exponentially as observations come from further in the past.\n",
    "- The EWM (Exponential Weighted Moving Average) function in Python's Pandas library can be used to apply exponential smoothing to a data set.\n",
    "- The function takes several parameters such as the data set, the smoothing factor, and the frequency of the data.\n",
    "- The smoothing factor determines the weight given to more recent observations, with a higher factor giving more weight to recent observations and a lower factor giving more weight to older observations.\n",
    "- The frequency parameter is used to specify the time frequency of the data, such as daily or monthly.\n",
    "- The EWM function returns a new data set with the exponential smoothing applied.\n",
    "- This method can be useful in cases where the data has a trend or seasonality.\n",
    "\n",
    "\n",
    "**Role of Smoothing factor($\\alpha$):**\n",
    "\n",
    "- The smoothing factor (also known as the smoothing coefficient or the weighting factor) is a key parameter in exponential smoothing that determines the weight given to more recent observations. It is a value between 0 and 1, where a higher value indicates that more weight is given to recent observations, and a lower value indicates that more weight is given to older observations.\n",
    "\n",
    "- For example, if a smoothing factor of 0.9 is used, the forecast for the next period will be based on 90% of the most recent observation and 10% of the forecast for the previous period. If a smoothing factor of 0.1 is used, the forecast for the next period will be based on 10% of the most recent observation and 90% of the forecast for the previous period.\n",
    "\n",
    "- The choice of the smoothing factor depends on the characteristics of the data and the forecasting problem. A higher smoothing factor is typically used when the data is highly volatile and subject to rapid changes, while a lower smoothing factor is used when the data is more stable and predictable.\n",
    "\n",
    "- It's important to note that finding the best smoothing factor requires a process of trial and error, and it depends on the data, the goal of the forecast, and the method used to estimate the forecast. Methods like Grid search, Cross-validation, and Information Criterion are used to find the best smoothing factor."
   ]
  },
  {
   "cell_type": "markdown",
   "metadata": {},
   "source": [
    "$$\n",
    "\\text { Forecast for period } t = \\alpha * y(t) + (1 - \\alpha) * F(t-1)\n",
    "$$"
   ]
  },
  {
   "cell_type": "code",
   "execution_count": 44,
   "metadata": {},
   "outputs": [],
   "source": [
    "# exponentially smoothing the data\n",
    "data = data.ewm(alpha = 0.65).mean()"
   ]
  },
  {
   "cell_type": "code",
   "execution_count": 45,
   "metadata": {},
   "outputs": [
    {
     "data": {
      "image/png": "[encoded data removed]",
      "text/plain": [
       "<Figure size 864x432 with 1 Axes>"
      ]
     },
     "metadata": {
      "needs_background": "light"
     },
     "output_type": "display_data"
    }
   ],
   "source": [
    "plt.figure(figsize = (12,6))\n",
    "tmp1 = data.iloc[-60:]\n",
    "tmp1['close'].plot()\n",
    "plt.xticks(rotation = 30)\n",
    "plt.show()"
   ]
  },
  {
   "cell_type": "markdown",
   "metadata": {},
   "source": [
    "## Feature Engineering<a id='feature'></a>"
   ]
  },
  {
   "cell_type": "code",
   "execution_count": 46,
   "metadata": {},
   "outputs": [],
   "source": [
    "# List of symbols for technical indicators\n",
    "INDICATORS = ['RSI', 'MACD', 'STOCH','ADL', 'ATR', 'MOM', 'MFI', 'ROC', 'OBV', 'CCI', 'EMV']"
   ]
  },
  {
   "cell_type": "markdown",
   "metadata": {},
   "source": [
    "- **RSI (Relative Strength Index):** It is a momentum indicator that compares the magnitude of recent gains to recent losses in an attempt to determine overbought and oversold conditions of an asset.\n",
    "\n",
    "- **MACD (Moving Average Convergence Divergence):** It is a trend-following momentum indicator that shows the relationship between two moving averages of a security's price.\n",
    "\n",
    "- **STOCH (Stochastic Oscillator):** A momentum indicator that compares a stock's closing price to its price range over a given period of time. It is used to identify overbought or oversold conditions.\n",
    "\n",
    "- **ADL (Accumulation/Distribution Line):** A momentum indicator that uses volume flow to assess the buying and selling pressure of a security.\n",
    "\n",
    "- **ATR (Average True Range):** A volatility indicator that measures the range between the high and low prices of a security over a given period of time.\n",
    "\n",
    "- **MOM (Momentum Indicator):** A momentum indicator that compares the current closing price of a security to its closing price \"n\" periods ago.\n",
    "\n",
    "- **MFI (Money Flow Index):** A momentum indicator that uses both price and volume to measure buying and selling pressure.\n",
    "\n",
    "- **ROC (Rate of Change):** A momentum indicator that measures the percentage change in price over a specified period of time.\n",
    "\n",
    "- **OBV (On-Balance Volume):** A momentum indicator that uses volume to assess the buying and selling pressure of a security.\n",
    "\n",
    "- **CCI (Commodity Channel Index):** A momentum indicator that measures the deviation of an asset's price from its statistical mean.\n",
    "\n",
    "- **EMV (Ease of Movement):** A volume-based indicator that is used to assess the relationship between price and volume."
   ]
  },
  {
   "cell_type": "code",
   "execution_count": 148,
   "metadata": {},
   "outputs": [],
   "source": [
    "def indicator_data(data):\n",
    "    \"\"\"\n",
    "    Function that uses the finta API to calculate technical indicators\n",
    "    \"\"\"\n",
    "\n",
    "    for indicator in INDICATORS:\n",
    "        # generate the indicator information for the data and\n",
    "        # add the parameters with the original data\n",
    "        ind_data = eval('TA.' + indicator + '(data)')\n",
    "        if not isinstance(ind_data, pd.DataFrame):\n",
    "            ind_data = ind_data.to_frame()\n",
    "        data = data.merge(ind_data, left_index=True, right_index=True)\n",
    "\n",
    "    # calculate moving averages for features\n",
    "    data['ema50'] = data['close'] / data['close'].ewm(50).mean()\n",
    "    data['ema21'] = data['close'] / data['close'].ewm(21).mean()\n",
    "    data['ema15'] = data['close'] / data['close'].ewm(14).mean()\n",
    "    data['ema5'] = data['close'] / data['close'].ewm(5).mean()\n",
    "\n",
    "    # it is a choice - you can remove these parameters as the 'close' parameter is the most \n",
    "    # one out of other features that we have engineered\n",
    "    del (data['open'])\n",
    "    del (data['high'])\n",
    "    del (data['low'])\n",
    "    del (data['volume'])\n",
    "    \n",
    "    return data"
   ]
  },
  {
   "cell_type": "code",
   "execution_count": 149,
   "metadata": {},
   "outputs": [
    {
     "name": "stdout",
     "output_type": "stream",
     "text": [
      "Index(['close', '14 period RSI_x', 'MACD_x', 'SIGNAL_x',\n",
      "       '14 period STOCH %K_x', 'MFV_x', '14 period ATR_x', 'MOM_x',\n",
      "       '14 period MFI_x', 'ROC_x', 'OBV_x', '20 period CCI_x',\n",
      "       '14 period EMV._x', 'ema50', 'ema21', 'ema15', 'ema5', 'pred',\n",
      "       '14 period RSI_y', 'MACD_y', 'SIGNAL_y', '14 period STOCH %K_y',\n",
      "       'MFV_y', '14 period ATR_y', 'MOM_y', '14 period MFI_y', 'ROC_y',\n",
      "       'OBV_y', '20 period CCI_y', '14 period EMV._y'],\n",
      "      dtype='object')\n"
     ]
    }
   ],
   "source": [
    "data = indicator_data(data)\n",
    "print(data.columns)"
   ]
  },
  {
   "cell_type": "code",
   "execution_count": 150,
   "metadata": {},
   "outputs": [
    {
     "data": {
      "text/html": [
       "<div>\n",
       "<style scoped>\n",
       "    .dataframe tbody tr th:only-of-type {\n",
       "        vertical-align: middle;\n",
       "    }\n",
       "\n",
       "    .dataframe tbody tr th {\n",
       "        vertical-align: top;\n",
       "    }\n",
       "\n",
       "    .dataframe thead th {\n",
       "        text-align: right;\n",
       "    }\n",
       "</style>\n",
       "<table border=\"1\" class=\"dataframe\">\n",
       "  <thead>\n",
       "    <tr style=\"text-align: right;\">\n",
       "      <th></th>\n",
       "      <th>close</th>\n",
       "      <th>14 period RSI_x</th>\n",
       "      <th>MACD_x</th>\n",
       "      <th>SIGNAL_x</th>\n",
       "      <th>14 period STOCH %K_x</th>\n",
       "      <th>MFV_x</th>\n",
       "      <th>14 period ATR_x</th>\n",
       "      <th>MOM_x</th>\n",
       "      <th>14 period MFI_x</th>\n",
       "      <th>ROC_x</th>\n",
       "      <th>...</th>\n",
       "      <th>SIGNAL_y</th>\n",
       "      <th>14 period STOCH %K_y</th>\n",
       "      <th>MFV_y</th>\n",
       "      <th>14 period ATR_y</th>\n",
       "      <th>MOM_y</th>\n",
       "      <th>14 period MFI_y</th>\n",
       "      <th>ROC_y</th>\n",
       "      <th>OBV_y</th>\n",
       "      <th>20 period CCI_y</th>\n",
       "      <th>14 period EMV._y</th>\n",
       "    </tr>\n",
       "    <tr>\n",
       "      <th>date</th>\n",
       "      <th></th>\n",
       "      <th></th>\n",
       "      <th></th>\n",
       "      <th></th>\n",
       "      <th></th>\n",
       "      <th></th>\n",
       "      <th></th>\n",
       "      <th></th>\n",
       "      <th></th>\n",
       "      <th></th>\n",
       "      <th></th>\n",
       "      <th></th>\n",
       "      <th></th>\n",
       "      <th></th>\n",
       "      <th></th>\n",
       "      <th></th>\n",
       "      <th></th>\n",
       "      <th></th>\n",
       "      <th></th>\n",
       "      <th></th>\n",
       "      <th></th>\n",
       "    </tr>\n",
       "  </thead>\n",
       "  <tbody>\n",
       "    <tr>\n",
       "      <th>1993-02-19 00:00:00-05:00</th>\n",
       "      <td>24.985080</td>\n",
       "      <td>31.941097</td>\n",
       "      <td>-0.079473</td>\n",
       "      <td>-0.021567</td>\n",
       "      <td>23.813029</td>\n",
       "      <td>2.432075e+06</td>\n",
       "      <td>0.243239</td>\n",
       "      <td>-0.770167</td>\n",
       "      <td>68.289031</td>\n",
       "      <td>-1.707873</td>\n",
       "      <td>...</td>\n",
       "      <td>0.000000</td>\n",
       "      <td>NaN</td>\n",
       "      <td>40198.668908</td>\n",
       "      <td>NaN</td>\n",
       "      <td>NaN</td>\n",
       "      <td>NaN</td>\n",
       "      <td>NaN</td>\n",
       "      <td>NaN</td>\n",
       "      <td>NaN</td>\n",
       "      <td>NaN</td>\n",
       "    </tr>\n",
       "    <tr>\n",
       "      <th>1993-02-22 00:00:00-05:00</th>\n",
       "      <td>25.055014</td>\n",
       "      <td>36.400711</td>\n",
       "      <td>-0.087585</td>\n",
       "      <td>-0.035153</td>\n",
       "      <td>29.773421</td>\n",
       "      <td>2.568509e+06</td>\n",
       "      <td>0.244688</td>\n",
       "      <td>-0.735964</td>\n",
       "      <td>66.635763</td>\n",
       "      <td>-2.197573</td>\n",
       "      <td>...</td>\n",
       "      <td>0.000872</td>\n",
       "      <td>NaN</td>\n",
       "      <td>176632.239761</td>\n",
       "      <td>NaN</td>\n",
       "      <td>NaN</td>\n",
       "      <td>NaN</td>\n",
       "      <td>NaN</td>\n",
       "      <td>381808.577151</td>\n",
       "      <td>66.666667</td>\n",
       "      <td>NaN</td>\n",
       "    </tr>\n",
       "    <tr>\n",
       "      <th>1993-02-23 00:00:00-05:00</th>\n",
       "      <td>25.067835</td>\n",
       "      <td>37.213027</td>\n",
       "      <td>-0.091891</td>\n",
       "      <td>-0.046762</td>\n",
       "      <td>30.866201</td>\n",
       "      <td>2.627540e+06</td>\n",
       "      <td>0.249377</td>\n",
       "      <td>-0.735590</td>\n",
       "      <td>66.907206</td>\n",
       "      <td>-2.669016</td>\n",
       "      <td>...</td>\n",
       "      <td>0.001497</td>\n",
       "      <td>NaN</td>\n",
       "      <td>235663.815513</td>\n",
       "      <td>NaN</td>\n",
       "      <td>NaN</td>\n",
       "      <td>NaN</td>\n",
       "      <td>NaN</td>\n",
       "      <td>758346.579060</td>\n",
       "      <td>69.455336</td>\n",
       "      <td>NaN</td>\n",
       "    </tr>\n",
       "    <tr>\n",
       "      <th>1993-02-24 00:00:00-05:00</th>\n",
       "      <td>25.282176</td>\n",
       "      <td>48.951238</td>\n",
       "      <td>-0.080546</td>\n",
       "      <td>-0.053642</td>\n",
       "      <td>49.134265</td>\n",
       "      <td>2.742237e+06</td>\n",
       "      <td>0.252596</td>\n",
       "      <td>-0.408984</td>\n",
       "      <td>64.443198</td>\n",
       "      <td>-1.972787</td>\n",
       "      <td>...</td>\n",
       "      <td>0.004531</td>\n",
       "      <td>NaN</td>\n",
       "      <td>350360.924621</td>\n",
       "      <td>NaN</td>\n",
       "      <td>NaN</td>\n",
       "      <td>NaN</td>\n",
       "      <td>NaN</td>\n",
       "      <td>907229.878314</td>\n",
       "      <td>133.333333</td>\n",
       "      <td>NaN</td>\n",
       "    </tr>\n",
       "    <tr>\n",
       "      <th>1993-02-25 00:00:00-05:00</th>\n",
       "      <td>25.392168</td>\n",
       "      <td>53.731575</td>\n",
       "      <td>-0.063792</td>\n",
       "      <td>-0.055702</td>\n",
       "      <td>58.508790</td>\n",
       "      <td>2.803848e+06</td>\n",
       "      <td>0.243698</td>\n",
       "      <td>-0.283043</td>\n",
       "      <td>60.438035</td>\n",
       "      <td>-1.593807</td>\n",
       "      <td>...</td>\n",
       "      <td>0.008831</td>\n",
       "      <td>NaN</td>\n",
       "      <td>411971.398376</td>\n",
       "      <td>NaN</td>\n",
       "      <td>NaN</td>\n",
       "      <td>NaN</td>\n",
       "      <td>NaN</td>\n",
       "      <td>988264.032905</td>\n",
       "      <td>118.448137</td>\n",
       "      <td>NaN</td>\n",
       "    </tr>\n",
       "  </tbody>\n",
       "</table>\n",
       "<p>5 rows × 30 columns</p>\n",
       "</div>"
      ],
      "text/plain": [
       "                               close  14 period RSI_x    MACD_x  SIGNAL_x  \\\n",
       "date                                                                        \n",
       "1993-02-19 00:00:00-05:00  24.985080        31.941097 -0.079473 -0.021567   \n",
       "1993-02-22 00:00:00-05:00  25.055014        36.400711 -0.087585 -0.035153   \n",
       "1993-02-23 00:00:00-05:00  25.067835        37.213027 -0.091891 -0.046762   \n",
       "1993-02-24 00:00:00-05:00  25.282176        48.951238 -0.080546 -0.053642   \n",
       "1993-02-25 00:00:00-05:00  25.392168        53.731575 -0.063792 -0.055702   \n",
       "\n",
       "                           14 period STOCH %K_x         MFV_x  \\\n",
       "date                                                            \n",
       "1993-02-19 00:00:00-05:00             23.813029  2.432075e+06   \n",
       "1993-02-22 00:00:00-05:00             29.773421  2.568509e+06   \n",
       "1993-02-23 00:00:00-05:00             30.866201  2.627540e+06   \n",
       "1993-02-24 00:00:00-05:00             49.134265  2.742237e+06   \n",
       "1993-02-25 00:00:00-05:00             58.508790  2.803848e+06   \n",
       "\n",
       "                           14 period ATR_x     MOM_x  14 period MFI_x  \\\n",
       "date                                                                    \n",
       "1993-02-19 00:00:00-05:00         0.243239 -0.770167        68.289031   \n",
       "1993-02-22 00:00:00-05:00         0.244688 -0.735964        66.635763   \n",
       "1993-02-23 00:00:00-05:00         0.249377 -0.735590        66.907206   \n",
       "1993-02-24 00:00:00-05:00         0.252596 -0.408984        64.443198   \n",
       "1993-02-25 00:00:00-05:00         0.243698 -0.283043        60.438035   \n",
       "\n",
       "                              ROC_x  ...  SIGNAL_y  14 period STOCH %K_y  \\\n",
       "date                                 ...                                   \n",
       "1993-02-19 00:00:00-05:00 -1.707873  ...  0.000000                   NaN   \n",
       "1993-02-22 00:00:00-05:00 -2.197573  ...  0.000872                   NaN   \n",
       "1993-02-23 00:00:00-05:00 -2.669016  ...  0.001497                   NaN   \n",
       "1993-02-24 00:00:00-05:00 -1.972787  ...  0.004531                   NaN   \n",
       "1993-02-25 00:00:00-05:00 -1.593807  ...  0.008831                   NaN   \n",
       "\n",
       "                                   MFV_y  14 period ATR_y  MOM_y  \\\n",
       "date                                                               \n",
       "1993-02-19 00:00:00-05:00   40198.668908              NaN    NaN   \n",
       "1993-02-22 00:00:00-05:00  176632.239761              NaN    NaN   \n",
       "1993-02-23 00:00:00-05:00  235663.815513              NaN    NaN   \n",
       "1993-02-24 00:00:00-05:00  350360.924621              NaN    NaN   \n",
       "1993-02-25 00:00:00-05:00  411971.398376              NaN    NaN   \n",
       "\n",
       "                           14 period MFI_y  ROC_y          OBV_y  \\\n",
       "date                                                               \n",
       "1993-02-19 00:00:00-05:00              NaN    NaN            NaN   \n",
       "1993-02-22 00:00:00-05:00              NaN    NaN  381808.577151   \n",
       "1993-02-23 00:00:00-05:00              NaN    NaN  758346.579060   \n",
       "1993-02-24 00:00:00-05:00              NaN    NaN  907229.878314   \n",
       "1993-02-25 00:00:00-05:00              NaN    NaN  988264.032905   \n",
       "\n",
       "                           20 period CCI_y  14 period EMV._y  \n",
       "date                                                          \n",
       "1993-02-19 00:00:00-05:00              NaN               NaN  \n",
       "1993-02-22 00:00:00-05:00        66.666667               NaN  \n",
       "1993-02-23 00:00:00-05:00        69.455336               NaN  \n",
       "1993-02-24 00:00:00-05:00       133.333333               NaN  \n",
       "1993-02-25 00:00:00-05:00       118.448137               NaN  \n",
       "\n",
       "[5 rows x 30 columns]"
      ]
     },
     "execution_count": 150,
     "metadata": {},
     "output_type": "execute_result"
    }
   ],
   "source": [
    "data.head()"
   ]
  },
  {
   "cell_type": "code",
   "execution_count": 151,
   "metadata": {},
   "outputs": [
    {
     "data": {
      "text/plain": [
       "(7501, 30)"
      ]
     },
     "execution_count": 151,
     "metadata": {},
     "output_type": "execute_result"
    }
   ],
   "source": [
    "data.shape"
   ]
  },
  {
   "cell_type": "markdown",
   "metadata": {},
   "source": [
    "## Prepare the prediction parameter<a id='prediction'></a>"
   ]
  },
  {
   "cell_type": "code",
   "execution_count": 168,
   "metadata": {},
   "outputs": [],
   "source": [
    "def prepare_prediction(data, window):\n",
    "    \n",
    "    # compare the closing price of the share on the given data\n",
    "    # with the price of the share on the window\n",
    "    prediction = (data.shift(-window)['close'] >= data['close'])\n",
    "    prediction = prediction.iloc[:-window]\n",
    "    data['pred'] = prediction.astype(int)\n",
    "    del (data['close'])\n",
    "    \n",
    "    return data"
   ]
  },
  {
   "cell_type": "code",
   "execution_count": 169,
   "metadata": {},
   "outputs": [
    {
     "data": {
      "text/html": [
       "<div>\n",
       "<style scoped>\n",
       "    .dataframe tbody tr th:only-of-type {\n",
       "        vertical-align: middle;\n",
       "    }\n",
       "\n",
       "    .dataframe tbody tr th {\n",
       "        vertical-align: top;\n",
       "    }\n",
       "\n",
       "    .dataframe thead th {\n",
       "        text-align: right;\n",
       "    }\n",
       "</style>\n",
       "<table border=\"1\" class=\"dataframe\">\n",
       "  <thead>\n",
       "    <tr style=\"text-align: right;\">\n",
       "      <th></th>\n",
       "      <th>14 period RSI_x</th>\n",
       "      <th>MACD_x</th>\n",
       "      <th>SIGNAL_x</th>\n",
       "      <th>14 period STOCH %K_x</th>\n",
       "      <th>MFV_x</th>\n",
       "      <th>14 period ATR_x</th>\n",
       "      <th>MOM_x</th>\n",
       "      <th>14 period MFI_x</th>\n",
       "      <th>ROC_x</th>\n",
       "      <th>OBV_x</th>\n",
       "      <th>...</th>\n",
       "      <th>SIGNAL_y</th>\n",
       "      <th>14 period STOCH %K_y</th>\n",
       "      <th>MFV_y</th>\n",
       "      <th>14 period ATR_y</th>\n",
       "      <th>MOM_y</th>\n",
       "      <th>14 period MFI_y</th>\n",
       "      <th>ROC_y</th>\n",
       "      <th>OBV_y</th>\n",
       "      <th>20 period CCI_y</th>\n",
       "      <th>14 period EMV._y</th>\n",
       "    </tr>\n",
       "    <tr>\n",
       "      <th>date</th>\n",
       "      <th></th>\n",
       "      <th></th>\n",
       "      <th></th>\n",
       "      <th></th>\n",
       "      <th></th>\n",
       "      <th></th>\n",
       "      <th></th>\n",
       "      <th></th>\n",
       "      <th></th>\n",
       "      <th></th>\n",
       "      <th></th>\n",
       "      <th></th>\n",
       "      <th></th>\n",
       "      <th></th>\n",
       "      <th></th>\n",
       "      <th></th>\n",
       "      <th></th>\n",
       "      <th></th>\n",
       "      <th></th>\n",
       "      <th></th>\n",
       "      <th></th>\n",
       "    </tr>\n",
       "  </thead>\n",
       "  <tbody>\n",
       "    <tr>\n",
       "      <th>2022-09-28 00:00:00-04:00</th>\n",
       "      <td>28.643301</td>\n",
       "      <td>-9.541259</td>\n",
       "      <td>-6.930452</td>\n",
       "      <td>13.743764</td>\n",
       "      <td>4.044381e+10</td>\n",
       "      <td>7.467414</td>\n",
       "      <td>-25.797297</td>\n",
       "      <td>19.985962</td>\n",
       "      <td>-9.435293</td>\n",
       "      <td>4.329039e+10</td>\n",
       "      <td>...</td>\n",
       "      <td>-6.930452</td>\n",
       "      <td>13.743764</td>\n",
       "      <td>4.044142e+10</td>\n",
       "      <td>7.467414</td>\n",
       "      <td>-25.797297</td>\n",
       "      <td>19.985962</td>\n",
       "      <td>-9.435293</td>\n",
       "      <td>4.328866e+10</td>\n",
       "      <td>-138.755324</td>\n",
       "      <td>-0.137878</td>\n",
       "    </tr>\n",
       "    <tr>\n",
       "      <th>2022-09-29 00:00:00-04:00</th>\n",
       "      <td>26.591762</td>\n",
       "      <td>-9.940850</td>\n",
       "      <td>-7.532532</td>\n",
       "      <td>8.725848</td>\n",
       "      <td>4.044532e+10</td>\n",
       "      <td>7.612577</td>\n",
       "      <td>-25.679710</td>\n",
       "      <td>13.542258</td>\n",
       "      <td>-8.086231</td>\n",
       "      <td>4.317888e+10</td>\n",
       "      <td>...</td>\n",
       "      <td>-7.532532</td>\n",
       "      <td>8.725848</td>\n",
       "      <td>4.044292e+10</td>\n",
       "      <td>7.612577</td>\n",
       "      <td>-25.679710</td>\n",
       "      <td>13.542258</td>\n",
       "      <td>-8.086231</td>\n",
       "      <td>4.317715e+10</td>\n",
       "      <td>-134.913264</td>\n",
       "      <td>-0.180194</td>\n",
       "    </tr>\n",
       "    <tr>\n",
       "      <th>2022-09-30 00:00:00-04:00</th>\n",
       "      <td>24.090813</td>\n",
       "      <td>-10.531958</td>\n",
       "      <td>-8.132417</td>\n",
       "      <td>3.367039</td>\n",
       "      <td>4.035569e+10</td>\n",
       "      <td>7.837203</td>\n",
       "      <td>-27.350597</td>\n",
       "      <td>7.511160</td>\n",
       "      <td>-8.750177</td>\n",
       "      <td>4.303994e+10</td>\n",
       "      <td>...</td>\n",
       "      <td>-8.132417</td>\n",
       "      <td>3.367039</td>\n",
       "      <td>4.035330e+10</td>\n",
       "      <td>7.837203</td>\n",
       "      <td>-27.350597</td>\n",
       "      <td>7.511160</td>\n",
       "      <td>-8.750177</td>\n",
       "      <td>4.303821e+10</td>\n",
       "      <td>-131.251375</td>\n",
       "      <td>-0.210874</td>\n",
       "    </tr>\n",
       "    <tr>\n",
       "      <th>2022-10-03 00:00:00-04:00</th>\n",
       "      <td>30.392247</td>\n",
       "      <td>-10.525290</td>\n",
       "      <td>-8.610992</td>\n",
       "      <td>15.038394</td>\n",
       "      <td>4.037464e+10</td>\n",
       "      <td>7.638390</td>\n",
       "      <td>-23.768528</td>\n",
       "      <td>14.900895</td>\n",
       "      <td>-6.739311</td>\n",
       "      <td>4.314691e+10</td>\n",
       "      <td>...</td>\n",
       "      <td>-8.610992</td>\n",
       "      <td>15.038394</td>\n",
       "      <td>4.037224e+10</td>\n",
       "      <td>7.638390</td>\n",
       "      <td>-23.768528</td>\n",
       "      <td>14.900895</td>\n",
       "      <td>-6.739311</td>\n",
       "      <td>4.314518e+10</td>\n",
       "      <td>-104.296465</td>\n",
       "      <td>-0.169111</td>\n",
       "    </tr>\n",
       "    <tr>\n",
       "      <th>2022-10-04 00:00:00-04:00</th>\n",
       "      <td>41.068145</td>\n",
       "      <td>-9.691356</td>\n",
       "      <td>-8.827064</td>\n",
       "      <td>39.910739</td>\n",
       "      <td>4.045320e+10</td>\n",
       "      <td>7.942665</td>\n",
       "      <td>-12.278811</td>\n",
       "      <td>22.128018</td>\n",
       "      <td>-3.652339</td>\n",
       "      <td>4.325169e+10</td>\n",
       "      <td>...</td>\n",
       "      <td>-8.827064</td>\n",
       "      <td>39.910739</td>\n",
       "      <td>4.045081e+10</td>\n",
       "      <td>7.942665</td>\n",
       "      <td>-12.278811</td>\n",
       "      <td>22.128018</td>\n",
       "      <td>-3.652339</td>\n",
       "      <td>4.324996e+10</td>\n",
       "      <td>-59.631696</td>\n",
       "      <td>-0.105051</td>\n",
       "    </tr>\n",
       "  </tbody>\n",
       "</table>\n",
       "<p>5 rows × 29 columns</p>\n",
       "</div>"
      ],
      "text/plain": [
       "                           14 period RSI_x     MACD_x  SIGNAL_x  \\\n",
       "date                                                              \n",
       "2022-09-28 00:00:00-04:00        28.643301  -9.541259 -6.930452   \n",
       "2022-09-29 00:00:00-04:00        26.591762  -9.940850 -7.532532   \n",
       "2022-09-30 00:00:00-04:00        24.090813 -10.531958 -8.132417   \n",
       "2022-10-03 00:00:00-04:00        30.392247 -10.525290 -8.610992   \n",
       "2022-10-04 00:00:00-04:00        41.068145  -9.691356 -8.827064   \n",
       "\n",
       "                           14 period STOCH %K_x         MFV_x  \\\n",
       "date                                                            \n",
       "2022-09-28 00:00:00-04:00             13.743764  4.044381e+10   \n",
       "2022-09-29 00:00:00-04:00              8.725848  4.044532e+10   \n",
       "2022-09-30 00:00:00-04:00              3.367039  4.035569e+10   \n",
       "2022-10-03 00:00:00-04:00             15.038394  4.037464e+10   \n",
       "2022-10-04 00:00:00-04:00             39.910739  4.045320e+10   \n",
       "\n",
       "                           14 period ATR_x      MOM_x  14 period MFI_x  \\\n",
       "date                                                                     \n",
       "2022-09-28 00:00:00-04:00         7.467414 -25.797297        19.985962   \n",
       "2022-09-29 00:00:00-04:00         7.612577 -25.679710        13.542258   \n",
       "2022-09-30 00:00:00-04:00         7.837203 -27.350597         7.511160   \n",
       "2022-10-03 00:00:00-04:00         7.638390 -23.768528        14.900895   \n",
       "2022-10-04 00:00:00-04:00         7.942665 -12.278811        22.128018   \n",
       "\n",
       "                              ROC_x         OBV_x  ...  SIGNAL_y  \\\n",
       "date                                               ...             \n",
       "2022-09-28 00:00:00-04:00 -9.435293  4.329039e+10  ... -6.930452   \n",
       "2022-09-29 00:00:00-04:00 -8.086231  4.317888e+10  ... -7.532532   \n",
       "2022-09-30 00:00:00-04:00 -8.750177  4.303994e+10  ... -8.132417   \n",
       "2022-10-03 00:00:00-04:00 -6.739311  4.314691e+10  ... -8.610992   \n",
       "2022-10-04 00:00:00-04:00 -3.652339  4.325169e+10  ... -8.827064   \n",
       "\n",
       "                           14 period STOCH %K_y         MFV_y  \\\n",
       "date                                                            \n",
       "2022-09-28 00:00:00-04:00             13.743764  4.044142e+10   \n",
       "2022-09-29 00:00:00-04:00              8.725848  4.044292e+10   \n",
       "2022-09-30 00:00:00-04:00              3.367039  4.035330e+10   \n",
       "2022-10-03 00:00:00-04:00             15.038394  4.037224e+10   \n",
       "2022-10-04 00:00:00-04:00             39.910739  4.045081e+10   \n",
       "\n",
       "                           14 period ATR_y      MOM_y  14 period MFI_y  \\\n",
       "date                                                                     \n",
       "2022-09-28 00:00:00-04:00         7.467414 -25.797297        19.985962   \n",
       "2022-09-29 00:00:00-04:00         7.612577 -25.679710        13.542258   \n",
       "2022-09-30 00:00:00-04:00         7.837203 -27.350597         7.511160   \n",
       "2022-10-03 00:00:00-04:00         7.638390 -23.768528        14.900895   \n",
       "2022-10-04 00:00:00-04:00         7.942665 -12.278811        22.128018   \n",
       "\n",
       "                              ROC_y         OBV_y  20 period CCI_y  \\\n",
       "date                                                                 \n",
       "2022-09-28 00:00:00-04:00 -9.435293  4.328866e+10      -138.755324   \n",
       "2022-09-29 00:00:00-04:00 -8.086231  4.317715e+10      -134.913264   \n",
       "2022-09-30 00:00:00-04:00 -8.750177  4.303821e+10      -131.251375   \n",
       "2022-10-03 00:00:00-04:00 -6.739311  4.314518e+10      -104.296465   \n",
       "2022-10-04 00:00:00-04:00 -3.652339  4.324996e+10       -59.631696   \n",
       "\n",
       "                           14 period EMV._y  \n",
       "date                                         \n",
       "2022-09-28 00:00:00-04:00         -0.137878  \n",
       "2022-09-29 00:00:00-04:00         -0.180194  \n",
       "2022-09-30 00:00:00-04:00         -0.210874  \n",
       "2022-10-03 00:00:00-04:00         -0.169111  \n",
       "2022-10-04 00:00:00-04:00         -0.105051  \n",
       "\n",
       "[5 rows x 29 columns]"
      ]
     },
     "execution_count": 169,
     "metadata": {},
     "output_type": "execute_result"
    }
   ],
   "source": [
    "data = prepare_prediction(data, window = 20)\n",
    "\n",
    "# remove the data parameter with NULL values\n",
    "data = data.dropna()\n",
    "data.tail()"
   ]
  },
  {
   "cell_type": "code",
   "execution_count": 170,
   "metadata": {},
   "outputs": [
    {
     "data": {
      "text/plain": [
       "(7447, 29)"
      ]
     },
     "execution_count": 170,
     "metadata": {},
     "output_type": "execute_result"
    }
   ],
   "source": [
    "data.shape"
   ]
  },
  {
   "cell_type": "code",
   "execution_count": 171,
   "metadata": {},
   "outputs": [
    {
     "data": {
      "text/plain": [
       "array([0., 1.])"
      ]
     },
     "execution_count": 171,
     "metadata": {},
     "output_type": "execute_result"
    }
   ],
   "source": [
    "np.unique(data['pred'])"
   ]
  },
  {
   "cell_type": "code",
   "execution_count": 172,
   "metadata": {},
   "outputs": [
    {
     "data": {
      "text/plain": [
       "1.0    4824\n",
       "0.0    2623\n",
       "Name: pred, dtype: int64"
      ]
     },
     "execution_count": 172,
     "metadata": {},
     "output_type": "execute_result"
    }
   ],
   "source": [
    "data['pred'].value_counts()"
   ]
  },
  {
   "cell_type": "markdown",
   "metadata": {},
   "source": [
    "## Preparing the data for ML model(data_prep)<a id='data_prep'></a>"
   ]
  },
  {
   "cell_type": "code",
   "execution_count": 173,
   "metadata": {},
   "outputs": [],
   "source": [
    "# input data\n",
    "x = data.drop('pred', axis =1)\n",
    "#output data\n",
    "y = data['pred']"
   ]
  },
  {
   "cell_type": "code",
   "execution_count": 174,
   "metadata": {},
   "outputs": [],
   "source": [
    "# Split the data to training and testing data\n",
    "X_train, X_test, y_train, y_test = train_test_split(x, y, test_size=.2, random_state = 21)"
   ]
  },
  {
   "cell_type": "code",
   "execution_count": 175,
   "metadata": {},
   "outputs": [
    {
     "name": "stdout",
     "output_type": "stream",
     "text": [
      "Training data size :  (5957, 28)\n",
      "Test data size :  (1490, 28)\n"
     ]
    }
   ],
   "source": [
    "print('Training data size : ', X_train.shape)\n",
    "print('Test data size : ', X_test.shape)"
   ]
  },
  {
   "cell_type": "markdown",
   "metadata": {},
   "source": [
    "## Logistic Regression with Hyperparameter tuning and Cross validation<a id='log'></a>"
   ]
  },
  {
   "cell_type": "markdown",
   "metadata": {},
   "source": [
    "#### Model Training "
   ]
  },
  {
   "cell_type": "code",
   "execution_count": 176,
   "metadata": {},
   "outputs": [],
   "source": [
    "# define the parameter\n",
    "parameters = {'max_iter': [100, 200, 500]}\n",
    "# initialise the model\n",
    "lr_classifier = LogisticRegression()\n",
    "# initialise Hyperparameter tuning and Cross validation\n",
    "lr_classifier_rs = RandomizedSearchCV(estimator = lr_classifier, param_distributions= parameters, cv = 5, random_state=21, verbose=1)"
   ]
  },
  {
   "cell_type": "code",
   "execution_count": 177,
   "metadata": {},
   "outputs": [
    {
     "name": "stdout",
     "output_type": "stream",
     "text": [
      "Fitting 5 folds for each of 3 candidates, totalling 15 fits\n"
     ]
    },
    {
     "name": "stderr",
     "output_type": "stream",
     "text": [
      "[Parallel(n_jobs=1)]: Using backend SequentialBackend with 1 concurrent workers.\n",
      "[Parallel(n_jobs=1)]: Done  15 out of  15 | elapsed:    0.4s finished\n"
     ]
    },
    {
     "data": {
      "text/plain": [
       "RandomizedSearchCV(cv=5, estimator=LogisticRegression(),\n",
       "                   param_distributions={'max_iter': [100, 200, 500]},\n",
       "                   random_state=21, verbose=1)"
      ]
     },
     "execution_count": 177,
     "metadata": {},
     "output_type": "execute_result"
    }
   ],
   "source": [
    "# train the model\n",
    "lr_classifier_rs.fit(X_train, y_train)"
   ]
  },
  {
   "cell_type": "code",
   "execution_count": 178,
   "metadata": {},
   "outputs": [],
   "source": [
    "# function to get best random search attributes\n",
    "def get_best_randomsearch_results(model):\n",
    "    print(\"Best estimator : \", model.best_estimator_)\n",
    "    print(\"Best set of parameters : \", model.best_params_)\n",
    "    print(\"Best score : \", model.best_score_)"
   ]
  },
  {
   "cell_type": "code",
   "execution_count": 179,
   "metadata": {},
   "outputs": [
    {
     "name": "stdout",
     "output_type": "stream",
     "text": [
      "Best estimator :  LogisticRegression()\n",
      "Best set of parameters :  {'max_iter': 100}\n",
      "Best score :  0.6468017964712975\n"
     ]
    }
   ],
   "source": [
    "# get the best random search attributes\n",
    "get_best_randomsearch_results(lr_classifier_rs)"
   ]
  },
  {
   "cell_type": "markdown",
   "metadata": {},
   "source": [
    "#### Model prediction"
   ]
  },
  {
   "cell_type": "code",
   "execution_count": 180,
   "metadata": {},
   "outputs": [],
   "source": [
    "y_pred_lr = lr_classifier_rs.predict(X_test)"
   ]
  },
  {
   "cell_type": "markdown",
   "metadata": {},
   "source": [
    "#### Model Evaluation"
   ]
  },
  {
   "cell_type": "code",
   "execution_count": 181,
   "metadata": {},
   "outputs": [
    {
     "name": "stdout",
     "output_type": "stream",
     "text": [
      "Accuracy using Logistic Regression :  0.6463087248322148\n"
     ]
    }
   ],
   "source": [
    "lr_accuracy = accuracy_score(y_true=y_test, y_pred=y_pred_lr)\n",
    "print(\"Accuracy using Logistic Regression : \", lr_accuracy)"
   ]
  },
  {
   "cell_type": "code",
   "execution_count": 182,
   "metadata": {},
   "outputs": [],
   "source": [
    "# function to plot confusion matrix\n",
    "\n",
    "def plot_confusion_matrix(cm,labels):\n",
    "    fig, ax = plt.subplots(figsize=(6,4))\n",
    "    im = ax.imshow(cm, interpolation = 'nearest', cmap = plt.cm.Blues)\n",
    "    ax.figure.colorbar(im, ax = ax)\n",
    "    \n",
    "    ax.set(xticks = np.arange(cm.shape[1]),\n",
    "    yticks=np.arange(cm.shape[0]),\n",
    "    xticklabels=labels, yticklabels=labels,\n",
    "    ylabel='True label',\n",
    "    xlabel='Predicted label')\n",
    "    \n",
    "    thresh = cm.max() / 2.\n",
    "    \n",
    "    for i in range(cm.shape[0]):\n",
    "        for j in range(cm.shape[1]):\n",
    "            ax.text(j, i, int(cm[i, j]),ha=\"center\", va=\"center\",color=\"white\" if cm[i, j] > thresh else \"black\")\n",
    "    \n",
    "    fig.tight_layout()"
   ]
  },
  {
   "cell_type": "code",
   "execution_count": 183,
   "metadata": {},
   "outputs": [
    {
     "data": {
      "text/plain": [
       "array([[  0, 523],\n",
       "       [  4, 963]])"
      ]
     },
     "execution_count": 183,
     "metadata": {},
     "output_type": "execute_result"
    }
   ],
   "source": [
    "cm = confusion_matrix(y_test.values,y_pred_lr)\n",
    "cm"
   ]
  },
  {
   "cell_type": "code",
   "execution_count": 184,
   "metadata": {},
   "outputs": [
    {
     "data": {
      "image/png": "[encoded data removed]",
      "text/plain": [
       "<Figure size 432x288 with 2 Axes>"
      ]
     },
     "metadata": {
      "needs_background": "light"
     },
     "output_type": "display_data"
    }
   ],
   "source": [
    "# cm = confusion_matrix(y_test.values,y_pred_lr)\n",
    "plot_confusion_matrix(cm, np.unique(y_pred_lr))"
   ]
  },
  {
   "cell_type": "markdown",
   "metadata": {},
   "source": [
    "# Support Vector Classifier with Hyperparameter tuning and Cross validation<a id='SVC'></a>"
   ]
  },
  {
   "cell_type": "markdown",
   "metadata": {},
   "source": [
    "#### Model Training"
   ]
  },
  {
   "cell_type": "code",
   "execution_count": 202,
   "metadata": {},
   "outputs": [],
   "source": [
    "parameters = {\n",
    "    'kernel': ['rbf', 'poly', 'sigmoid'],\n",
    "    'C':[1.0, 2.0]\n",
    "}\n",
    "\n",
    "svm_rs = RandomizedSearchCV(estimator = SVC(), param_distributions=parameters, cv = 5, random_state = 42, verbose = 1)"
   ]
  },
  {
   "cell_type": "code",
   "execution_count": 203,
   "metadata": {},
   "outputs": [
    {
     "name": "stdout",
     "output_type": "stream",
     "text": [
      "Fitting 5 folds for each of 6 candidates, totalling 30 fits\n"
     ]
    },
    {
     "name": "stderr",
     "output_type": "stream",
     "text": [
      "[Parallel(n_jobs=1)]: Using backend SequentialBackend with 1 concurrent workers.\n",
      "[Parallel(n_jobs=1)]: Done  30 out of  30 | elapsed:   33.2s finished\n"
     ]
    },
    {
     "data": {
      "text/plain": [
       "RandomizedSearchCV(cv=5, estimator=SVC(),\n",
       "                   param_distributions={'C': [1.0, 2.0],\n",
       "                                        'kernel': ['rbf', 'poly', 'sigmoid']},\n",
       "                   random_state=42, verbose=1)"
      ]
     },
     "execution_count": 203,
     "metadata": {},
     "output_type": "execute_result"
    }
   ],
   "source": [
    "svm_rs.fit(X_train, y_train)"
   ]
  },
  {
   "cell_type": "code",
   "execution_count": 204,
   "metadata": {},
   "outputs": [
    {
     "name": "stdout",
     "output_type": "stream",
     "text": [
      "Best estimator :  SVC()\n",
      "Best set of parameters :  {'kernel': 'rbf', 'C': 1.0}\n",
      "Best score :  0.6474735009213396\n"
     ]
    }
   ],
   "source": [
    "# get the best random search attributes\n",
    "get_best_randomsearch_results(svm_rs)"
   ]
  },
  {
   "cell_type": "markdown",
   "metadata": {},
   "source": [
    "#### Model Prediction"
   ]
  },
  {
   "cell_type": "code",
   "execution_count": 205,
   "metadata": {},
   "outputs": [],
   "source": [
    "y_pred_svm = svm_rs.predict(X_test)"
   ]
  },
  {
   "cell_type": "markdown",
   "metadata": {},
   "source": [
    "#### Model Evaluation"
   ]
  },
  {
   "cell_type": "code",
   "execution_count": 227,
   "metadata": {},
   "outputs": [
    {
     "name": "stdout",
     "output_type": "stream",
     "text": [
      "Accuracy using Kernel SVM :  0.648993288590604\n"
     ]
    }
   ],
   "source": [
    "svm_accuracy = accuracy_score(y_true=y_test, y_pred=y_pred_svm)\n",
    "print(\"Accuracy using Kernel SVM : \", kernel_svm_accuracy)"
   ]
  },
  {
   "cell_type": "code",
   "execution_count": 207,
   "metadata": {},
   "outputs": [
    {
     "data": {
      "text/plain": [
       "0.6463087248322148"
      ]
     },
     "execution_count": 207,
     "metadata": {},
     "output_type": "execute_result"
    }
   ],
   "source": [
    "lr_accuracy"
   ]
  },
  {
   "cell_type": "code",
   "execution_count": 208,
   "metadata": {},
   "outputs": [
    {
     "data": {
      "text/plain": [
       "array([[  0, 523],\n",
       "       [  0, 967]])"
      ]
     },
     "execution_count": 208,
     "metadata": {},
     "output_type": "execute_result"
    }
   ],
   "source": [
    "cm = confusion_matrix(y_test.values, y_pred_svm)\n",
    "cm"
   ]
  },
  {
   "cell_type": "code",
   "execution_count": 192,
   "metadata": {},
   "outputs": [
    {
     "data": {
      "image/png": "[encoded data removed]",
      "text/plain": [
       "<Figure size 432x288 with 2 Axes>"
      ]
     },
     "metadata": {
      "needs_background": "light"
     },
     "output_type": "display_data"
    }
   ],
   "source": [
    "# cm = confusion_matrix(y_test.values,y_pred_lr)\n",
    "plot_confusion_matrix(cm, np.unique(y_pred_lr))"
   ]
  },
  {
   "cell_type": "markdown",
   "metadata": {},
   "source": [
    "# Decision Tree with Hyperparameter tuning and Cross validation<a id='dt'></a>"
   ]
  },
  {
   "cell_type": "markdown",
   "metadata": {},
   "source": [
    "#### Model Training"
   ]
  },
  {
   "cell_type": "code",
   "execution_count": 223,
   "metadata": {},
   "outputs": [],
   "source": [
    "parameters = {'max_depth': np.arange(2, 20, 2)}\n",
    "\n",
    "dt_classifier = DecisionTreeClassifier()\n",
    "dt_classifier_rs = RandomizedSearchCV(dt_classifier, param_distributions = parameters, random_state = 42, cv = 5, verbose = 1)"
   ]
  },
  {
   "cell_type": "code",
   "execution_count": 224,
   "metadata": {},
   "outputs": [
    {
     "name": "stdout",
     "output_type": "stream",
     "text": [
      "Fitting 5 folds for each of 9 candidates, totalling 45 fits\n"
     ]
    },
    {
     "name": "stderr",
     "output_type": "stream",
     "text": [
      "[Parallel(n_jobs=1)]: Using backend SequentialBackend with 1 concurrent workers.\n",
      "[Parallel(n_jobs=1)]: Done  45 out of  45 | elapsed:    4.2s finished\n"
     ]
    },
    {
     "data": {
      "text/plain": [
       "RandomizedSearchCV(cv=5, estimator=DecisionTreeClassifier(),\n",
       "                   param_distributions={'max_depth': array([ 2,  4,  6,  8, 10, 12, 14, 16, 18])},\n",
       "                   random_state=42, verbose=1)"
      ]
     },
     "execution_count": 224,
     "metadata": {},
     "output_type": "execute_result"
    }
   ],
   "source": [
    "dt_classifier_rs.fit(X_train, y_train)"
   ]
  },
  {
   "cell_type": "markdown",
   "metadata": {},
   "source": [
    "#### Model Prediction"
   ]
  },
  {
   "cell_type": "code",
   "execution_count": 225,
   "metadata": {},
   "outputs": [],
   "source": [
    "y_pred_dt = dt_classifier_rs.predict(X_test)"
   ]
  },
  {
   "cell_type": "markdown",
   "metadata": {},
   "source": [
    "#### Model Evaluation"
   ]
  },
  {
   "cell_type": "code",
   "execution_count": 226,
   "metadata": {},
   "outputs": [
    {
     "name": "stdout",
     "output_type": "stream",
     "text": [
      "Accuracy using Decision tree :  0.8261744966442953\n"
     ]
    }
   ],
   "source": [
    "dt_accuracy = accuracy_score(y_true=y_test, y_pred=y_pred_dt)\n",
    "print(\"Accuracy using Decision tree : \", dt_accuracy)"
   ]
  },
  {
   "cell_type": "code",
   "execution_count": 216,
   "metadata": {},
   "outputs": [
    {
     "data": {
      "image/png": "[encoded data removed]",
      "text/plain": [
       "<Figure size 432x288 with 2 Axes>"
      ]
     },
     "metadata": {
      "needs_background": "light"
     },
     "output_type": "display_data"
    }
   ],
   "source": [
    "cm = confusion_matrix(y_test.values,y_pred)\n",
    "plot_confusion_matrix(cm, np.unique(y_pred))"
   ]
  },
  {
   "cell_type": "markdown",
   "metadata": {},
   "source": [
    "# Random Forest with Hyperparameter tuning and Cross validation<a id='rf'></a>"
   ]
  },
  {
   "cell_type": "markdown",
   "metadata": {},
   "source": [
    "#### Model Training"
   ]
  },
  {
   "cell_type": "code",
   "execution_count": 217,
   "metadata": {},
   "outputs": [],
   "source": [
    "parameters = {\n",
    "    'n_estimators':[110,130,140,150,160,180,200], \n",
    "    'max_depth': np.arange(2, 17, 2)\n",
    "}\n",
    "rf_classifier = RandomForestClassifier()\n",
    "rf_classifier_rs = RandomizedSearchCV(rf_classifier, param_distributions=parameters,random_state = 42, verbose = 1, cv = 5)\n"
   ]
  },
  {
   "cell_type": "code",
   "execution_count": 218,
   "metadata": {},
   "outputs": [
    {
     "name": "stdout",
     "output_type": "stream",
     "text": [
      "Fitting 5 folds for each of 10 candidates, totalling 50 fits\n"
     ]
    },
    {
     "name": "stderr",
     "output_type": "stream",
     "text": [
      "[Parallel(n_jobs=1)]: Using backend SequentialBackend with 1 concurrent workers.\n",
      "[Parallel(n_jobs=1)]: Done  50 out of  50 | elapsed:  1.2min finished\n"
     ]
    },
    {
     "data": {
      "text/plain": [
       "RandomizedSearchCV(cv=5, estimator=RandomForestClassifier(),\n",
       "                   param_distributions={'max_depth': array([ 2,  4,  6,  8, 10, 12, 14, 16]),\n",
       "                                        'n_estimators': [110, 130, 140, 150,\n",
       "                                                         160, 180, 200]},\n",
       "                   random_state=42, verbose=1)"
      ]
     },
     "execution_count": 218,
     "metadata": {},
     "output_type": "execute_result"
    }
   ],
   "source": [
    "rf_classifier_rs.fit(X_train, y_train)"
   ]
  },
  {
   "cell_type": "markdown",
   "metadata": {},
   "source": [
    "#### Model Prediction"
   ]
  },
  {
   "cell_type": "code",
   "execution_count": 219,
   "metadata": {},
   "outputs": [],
   "source": [
    "y_pred = rf_classifier_rs.predict(X_test)"
   ]
  },
  {
   "cell_type": "markdown",
   "metadata": {},
   "source": [
    "#### Model Evaluation"
   ]
  },
  {
   "cell_type": "code",
   "execution_count": 220,
   "metadata": {},
   "outputs": [
    {
     "name": "stdout",
     "output_type": "stream",
     "text": [
      "Accuracy using Random forest :  0.876510067114094\n"
     ]
    }
   ],
   "source": [
    "rf_accuracy = accuracy_score(y_true=y_test, y_pred=y_pred)\n",
    "print(\"Accuracy using Random forest : \", rf_accuracy)"
   ]
  },
  {
   "cell_type": "code",
   "execution_count": 221,
   "metadata": {},
   "outputs": [
    {
     "data": {
      "text/plain": [
       "array([[372, 151],\n",
       "       [ 33, 934]])"
      ]
     },
     "execution_count": 221,
     "metadata": {},
     "output_type": "execute_result"
    }
   ],
   "source": [
    "cm = confusion_matrix(y_test.values, y_pred)\n",
    "cm"
   ]
  },
  {
   "cell_type": "code",
   "execution_count": 222,
   "metadata": {},
   "outputs": [
    {
     "data": {
      "image/png": "[encoded data removed]",
      "text/plain": [
       "<Figure size 432x288 with 2 Axes>"
      ]
     },
     "metadata": {
      "needs_background": "light"
     },
     "output_type": "display_data"
    }
   ],
   "source": [
    "cm = confusion_matrix(y_test.values,y_pred)\n",
    "plot_confusion_matrix(cm, np.unique(y_pred))"
   ]
  },
  {
   "cell_type": "markdown",
   "metadata": {},
   "source": [
    "# Compare the Models Performance<a id='compare'></a>"
   ]
  },
  {
   "cell_type": "code",
   "execution_count": 229,
   "metadata": {},
   "outputs": [],
   "source": [
    "model_results = {\n",
    "    'LR': lr_accuracy,\n",
    "    'SVM': svm_accuracy,\n",
    "    'DT': dt_accuracy,\n",
    "    'RF': rf_accuracy\n",
    "}"
   ]
  },
  {
   "cell_type": "code",
   "execution_count": 231,
   "metadata": {},
   "outputs": [
    {
     "data": {
      "image/png": "[encoded data removed]",
      "text/plain": [
       "<Figure size 432x288 with 1 Axes>"
      ]
     },
     "metadata": {
      "needs_background": "light"
     },
     "output_type": "display_data"
    }
   ],
   "source": [
    "plt.bar(range(len(model_results)), model_results.values(), align='center')\n",
    "plt.xticks(range(len(model_results)), list(model_results.keys()))\n",
    "plt.ylabel(\"Model Accuracy\")\n",
    "plt.xlabel(\"Model\")\n",
    "plt.show()"
   ]
  },
  {
   "cell_type": "markdown",
   "metadata": {},
   "source": [
    "## References:\n",
    "\n",
    "- yfinance Python Tutorial - https://analyzingalpha.com/yfinance-python#How_to_Download_Fundamental_Data_Using_yfinance\n",
    "- list of stocks and corresponding tickers: https://stockanalysis.com/stocks/"
   ]
  },
  {
   "cell_type": "code",
   "execution_count": null,
   "metadata": {},
   "outputs": [],
   "source": []
  }
 ],
 "metadata": {
  "kernelspec": {
   "display_name": "Python 3",
   "language": "python",
   "name": "python3"
  },
  "language_info": {
   "codemirror_mode": {
    "name": "ipython",
    "version": 3
   },
   "file_extension": ".py",
   "mimetype": "text/x-python",
   "name": "python",
   "nbconvert_exporter": "python",
   "pygments_lexer": "ipython3",
   "version": "3.6.9"
  }
 },
 "nbformat": 4,
 "nbformat_minor": 5
}
